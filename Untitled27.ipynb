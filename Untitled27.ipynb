{
  "nbformat": 4,
  "nbformat_minor": 0,
  "metadata": {
    "colab": {
      "name": "Untitled27.ipynb",
      "provenance": [],
      "mount_file_id": "1STKswsp-6Xwml7qJn5jibJXtUJswe4LZ",
      "authorship_tag": "ABX9TyPH9omH+HH6IfZnSVUzLGCl",
      "include_colab_link": true
    },
    "kernelspec": {
      "name": "python3",
      "display_name": "Python 3"
    },
    "accelerator": "GPU"
  },
  "cells": [
    {
      "cell_type": "markdown",
      "metadata": {
        "id": "view-in-github",
        "colab_type": "text"
      },
      "source": [
        "<a href=\"https://colab.research.google.com/github/Anubhav-07007/-Car_insurance/blob/master/Untitled27.ipynb\" target=\"_parent\"><img src=\"https://colab.research.google.com/assets/colab-badge.svg\" alt=\"Open In Colab\"/></a>"
      ]
    },
    {
      "cell_type": "code",
      "metadata": {
        "id": "7K3AFY1hAVNA"
      },
      "source": [
        "import pandas as pd\r\n",
        "import numpy as np\r\n",
        "import matplotlib.pyplot as plt\r\n",
        "import seaborn as sns"
      ],
      "execution_count": 1,
      "outputs": []
    },
    {
      "cell_type": "code",
      "metadata": {
        "id": "9x5fzc5iAcho"
      },
      "source": [
        "df=pd.read_csv('/content/drive/MyDrive/Colab Notebooks/train.csv',index_col=0)"
      ],
      "execution_count": 2,
      "outputs": []
    },
    {
      "cell_type": "code",
      "metadata": {
        "id": "yVqzdcjfAe_4"
      },
      "source": [
        "gender=pd.get_dummies(df['Gender'],drop_first=True)\r\n",
        "vehicle_age=pd.get_dummies(df['Vehicle_Age'],drop_first=True)\r\n",
        "vehicle_damage=pd.get_dummies(df['Vehicle_Damage'],drop_first=True)"
      ],
      "execution_count": 3,
      "outputs": []
    },
    {
      "cell_type": "code",
      "metadata": {
        "id": "qd9st8a7Ag-d"
      },
      "source": [
        "df.drop(['Gender','Vehicle_Age','Vehicle_Damage'],axis=1,inplace=True)"
      ],
      "execution_count": 4,
      "outputs": []
    },
    {
      "cell_type": "code",
      "metadata": {
        "id": "tVPXxTV-AjMw"
      },
      "source": [
        "df=pd.concat([df,gender,vehicle_age,vehicle_damage],axis=1)"
      ],
      "execution_count": 5,
      "outputs": []
    },
    {
      "cell_type": "code",
      "metadata": {
        "id": "FZWSrZivAltb"
      },
      "source": [
        "x=df.drop(['Response'],axis=1)"
      ],
      "execution_count": 6,
      "outputs": []
    },
    {
      "cell_type": "code",
      "metadata": {
        "id": "8WxAg3PeAo8D"
      },
      "source": [
        "y=df['Response']"
      ],
      "execution_count": 7,
      "outputs": []
    },
    {
      "cell_type": "code",
      "metadata": {
        "colab": {
          "base_uri": "https://localhost:8080/"
        },
        "id": "wp6Uhi6FAr-M",
        "outputId": "64b77783-ca57-490b-82d7-23fe67569af6"
      },
      "source": [
        "y.head()"
      ],
      "execution_count": 8,
      "outputs": [
        {
          "output_type": "execute_result",
          "data": {
            "text/plain": [
              "id\n",
              "1    1\n",
              "2    0\n",
              "3    1\n",
              "4    0\n",
              "5    0\n",
              "Name: Response, dtype: int64"
            ]
          },
          "metadata": {
            "tags": []
          },
          "execution_count": 8
        }
      ]
    },
    {
      "cell_type": "code",
      "metadata": {
        "id": "UNZLYoMnAtDP"
      },
      "source": [
        "from sklearn.model_selection import train_test_split"
      ],
      "execution_count": 9,
      "outputs": []
    },
    {
      "cell_type": "code",
      "metadata": {
        "id": "D7eTx6pLAw5w"
      },
      "source": [
        "xtrain,xtest,ytrain,ytest=train_test_split(x,y,test_size=0.30,random_state=10)"
      ],
      "execution_count": 10,
      "outputs": []
    },
    {
      "cell_type": "code",
      "metadata": {
        "id": "RNKASJ_GAyxL"
      },
      "source": [
        "from sklearn.preprocessing import StandardScaler\r\n"
      ],
      "execution_count": 11,
      "outputs": []
    },
    {
      "cell_type": "code",
      "metadata": {
        "id": "ESiP614kA0bW"
      },
      "source": [
        "sc=StandardScaler()"
      ],
      "execution_count": 12,
      "outputs": []
    },
    {
      "cell_type": "code",
      "metadata": {
        "id": "8aU04ThVA2HA"
      },
      "source": [
        "xtrain=sc.fit_transform(xtrain)\r\n",
        "xtest=sc.transform(xtest)"
      ],
      "execution_count": 13,
      "outputs": []
    },
    {
      "cell_type": "code",
      "metadata": {
        "id": "-ciCouXOA70D"
      },
      "source": [
        "from sklearn.neighbors import  KNeighborsClassifier"
      ],
      "execution_count": 14,
      "outputs": []
    },
    {
      "cell_type": "code",
      "metadata": {
        "id": "HBLx1t-DA9o2"
      },
      "source": [
        "knn=KNeighborsClassifier(n_neighbors=1)"
      ],
      "execution_count": 15,
      "outputs": []
    },
    {
      "cell_type": "code",
      "metadata": {
        "colab": {
          "base_uri": "https://localhost:8080/"
        },
        "id": "i8SIIs6oA-3-",
        "outputId": "8cb1df3e-5e28-4840-81d3-c1696bcec9f6"
      },
      "source": [
        "knn.fit(xtrain,ytrain)"
      ],
      "execution_count": 16,
      "outputs": [
        {
          "output_type": "execute_result",
          "data": {
            "text/plain": [
              "KNeighborsClassifier(algorithm='auto', leaf_size=30, metric='minkowski',\n",
              "                     metric_params=None, n_jobs=None, n_neighbors=1, p=2,\n",
              "                     weights='uniform')"
            ]
          },
          "metadata": {
            "tags": []
          },
          "execution_count": 16
        }
      ]
    },
    {
      "cell_type": "code",
      "metadata": {
        "id": "WqLEkIT-BAD1"
      },
      "source": [
        "ypred=knn.predict(xtest)"
      ],
      "execution_count": 17,
      "outputs": []
    },
    {
      "cell_type": "code",
      "metadata": {
        "id": "dqmwFEj3BDAr"
      },
      "source": [
        "from sklearn.metrics import confusion_matrix,classification_report"
      ],
      "execution_count": 18,
      "outputs": []
    },
    {
      "cell_type": "code",
      "metadata": {
        "colab": {
          "base_uri": "https://localhost:8080/"
        },
        "id": "qTQVjbt1BFAK",
        "outputId": "57b19c81-86d0-4c33-ffc1-8524d6f1ecbb"
      },
      "source": [
        "print(confusion_matrix(ytest,ypred))\r\n",
        "print(classification_report(ytest,ypred))"
      ],
      "execution_count": 19,
      "outputs": [
        {
          "output_type": "stream",
          "text": [
            "[[90423  9975]\n",
            " [ 9884  4051]]\n",
            "              precision    recall  f1-score   support\n",
            "\n",
            "           0       0.90      0.90      0.90    100398\n",
            "           1       0.29      0.29      0.29     13935\n",
            "\n",
            "    accuracy                           0.83    114333\n",
            "   macro avg       0.60      0.60      0.60    114333\n",
            "weighted avg       0.83      0.83      0.83    114333\n",
            "\n"
          ],
          "name": "stdout"
        }
      ]
    },
    {
      "cell_type": "code",
      "metadata": {
        "id": "FT96F_gpBGrg"
      },
      "source": [
        "error_rate = []\r\n",
        "\r\n",
        "# Will take some time\r\n",
        "for i in range(1,40):\r\n",
        "    \r\n",
        "    knn = KNeighborsClassifier(n_neighbors=i)\r\n",
        "    knn.fit(xtrain,ytrain)\r\n",
        "    pred_i = knn.predict(xtest)\r\n",
        "    error_rate.append(np.mean(pred_i != ytest))"
      ],
      "execution_count": 25,
      "outputs": []
    },
    {
      "cell_type": "code",
      "metadata": {
        "colab": {
          "base_uri": "https://localhost:8080/",
          "height": 312
        },
        "id": "2rsfCTykBudS",
        "outputId": "c5b773d6-7bef-4a75-b3a6-0f8addf3ffb4"
      },
      "source": [
        "plt.Figure(figsize=(20,8))\r\n",
        "plt.plot(range(1,40),error_rate,color='blue',linestyle='dashed',marker='o',markerfacecolor='red',markersize=10)\r\n",
        "plt.title('Error Rate vs. K Value')\r\n",
        "plt.xlabel('K')\r\n",
        "plt.ylabel('Error Rate')"
      ],
      "execution_count": 28,
      "outputs": [
        {
          "output_type": "execute_result",
          "data": {
            "text/plain": [
              "Text(0, 0.5, 'Error Rate')"
            ]
          },
          "metadata": {
            "tags": []
          },
          "execution_count": 28
        },
        {
          "output_type": "display_data",
          "data": {
            "image/png": "[encoded data removed]",
            "text/plain": [
              "<Figure size 432x288 with 1 Axes>"
            ]
          },
          "metadata": {
            "tags": [],
            "needs_background": "light"
          }
        }
      ]
    },
    {
      "cell_type": "code",
      "metadata": {
        "id": "V2bv-ARlTHSW"
      },
      "source": [
        "knn=KNeighborsClassifier(n_neighbors=20)"
      ],
      "execution_count": 29,
      "outputs": []
    },
    {
      "cell_type": "code",
      "metadata": {
        "colab": {
          "base_uri": "https://localhost:8080/"
        },
        "id": "SfXEsyxHTeqO",
        "outputId": "5bd53a94-ac5f-422d-95d4-fd57803e091f"
      },
      "source": [
        "knn.fit(xtrain,ytrain)"
      ],
      "execution_count": 30,
      "outputs": [
        {
          "output_type": "execute_result",
          "data": {
            "text/plain": [
              "KNeighborsClassifier(algorithm='auto', leaf_size=30, metric='minkowski',\n",
              "                     metric_params=None, n_jobs=None, n_neighbors=20, p=2,\n",
              "                     weights='uniform')"
            ]
          },
          "metadata": {
            "tags": []
          },
          "execution_count": 30
        }
      ]
    },
    {
      "cell_type": "code",
      "metadata": {
        "id": "xprxH3o7Tjxj"
      },
      "source": [
        "Ypred=knn.predict(xtest)"
      ],
      "execution_count": 31,
      "outputs": []
    },
    {
      "cell_type": "code",
      "metadata": {
        "colab": {
          "base_uri": "https://localhost:8080/"
        },
        "id": "YvUW-U9ST9Ge",
        "outputId": "6bb12738-6432-44be-c091-37a6ef99a48b"
      },
      "source": [
        "print(confusion_matrix(ytest,Ypred))\r\n",
        "print(classification_report(ytest,Ypred))"
      ],
      "execution_count": 32,
      "outputs": [
        {
          "output_type": "stream",
          "text": [
            "[[99392  1006]\n",
            " [13249   686]]\n",
            "              precision    recall  f1-score   support\n",
            "\n",
            "           0       0.88      0.99      0.93    100398\n",
            "           1       0.41      0.05      0.09     13935\n",
            "\n",
            "    accuracy                           0.88    114333\n",
            "   macro avg       0.64      0.52      0.51    114333\n",
            "weighted avg       0.82      0.88      0.83    114333\n",
            "\n"
          ],
          "name": "stdout"
        }
      ]
    },
    {
      "cell_type": "code",
      "metadata": {
        "id": "Zz3ou7GFU0LQ"
      },
      "source": [
        ""
      ],
      "execution_count": null,
      "outputs": []
    }
  ]
}